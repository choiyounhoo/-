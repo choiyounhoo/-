{
  "nbformat": 4,
  "nbformat_minor": 0,
  "metadata": {
    "colab": {
      "name": "Untitled1.ipynb",
      "provenance": [],
      "collapsed_sections": [],
      "authorship_tag": "ABX9TyMIzjdjlSjCeFs4lm1SH0Dh",
      "include_colab_link": true
    },
    "kernelspec": {
      "name": "python3",
      "display_name": "Python 3"
    }
  },
  "cells": [
    {
      "cell_type": "markdown",
      "metadata": {
        "id": "view-in-github",
        "colab_type": "text"
      },
      "source": [
        "<a href=\"https://colab.research.google.com/github/choiyounhoo/-/blob/master/Untitled1.ipynb\" target=\"_parent\"><img src=\"https://colab.research.google.com/assets/colab-badge.svg\" alt=\"Open In Colab\"/></a>"
      ]
    },
    {
      "cell_type": "code",
      "metadata": {
        "id": "PJCvkqtEgHAO",
        "colab_type": "code",
        "colab": {}
      },
      "source": [
        ""
      ],
      "execution_count": 0,
      "outputs": []
    },
    {
      "cell_type": "markdown",
      "metadata": {
        "id": "C4m-oMBigHUV",
        "colab_type": "text"
      },
      "source": [
        "# 인공 지능 사관학교 프리 코스 과제 목차\n",
        "\n",
        "## 1주차 과제(2020.05.26)\n",
        "\n",
        "### 인공지능 4가지 분야 \n",
        "\n",
        "* 언어\n",
        "\n",
        ">구글번역기\n",
        "\n",
        ">네이버파파고\n",
        "\n",
        "* 음성\n",
        "\n",
        ">애플 Siri\n",
        "\n",
        ">구글 Google Now\n",
        "\n",
        ">마이크로소프트 Cortana\n",
        "\n",
        ">아마존 Echo\n",
        "\n",
        ">삼성 Bixby\n",
        "\n",
        ">SK Nugu\n",
        "\n",
        ">KT Genie\n",
        "\n",
        ">LG ThinkQ\n",
        "\n",
        "* 이미지 \n",
        "\n",
        "> 구글워드랜즈\n",
        "\n",
        "> 핀터레스트 \n",
        "\n",
        "* 자율주행\n",
        "\n",
        "> 구글 WAYMO\n",
        "\n",
        "> 인텔 Mobileye\n",
        "\n",
        "> 현대 Aptiv\n",
        "\n",
        "\n"
      ]
    }
  ]
}